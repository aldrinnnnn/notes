{
 "cells": [
  {
   "cell_type": "markdown",
   "id": "d2ef091f",
   "metadata": {},
   "source": [
    "# Topic 1: SQL Review"
   ]
  },
  {
   "cell_type": "code",
   "execution_count": 1,
   "id": "380e0fb4",
   "metadata": {},
   "outputs": [],
   "source": [
    "#!pip install ipython-sql\n"
   ]
  },
  {
   "cell_type": "code",
   "execution_count": 2,
   "id": "c518bc49",
   "metadata": {},
   "outputs": [],
   "source": [
    "#%load_ext sql\n"
   ]
  },
  {
   "cell_type": "markdown",
   "id": "583ad652",
   "metadata": {},
   "source": [
    "**Scribes**: Shreya Shankar, Natalie Chan, Dana Benedicto  \n",
    "**Date**: August 29, 2023"
   ]
  },
  {
   "cell_type": "markdown",
   "id": "65904a14",
   "metadata": {},
   "source": [
    "## Introduction\n",
    "We'll cover three types of data systems in this course—dataframes, relational databases, and Spark. This note will focus on the relational data model and a review of SQL—the language used to interact with relational data systems.\n"
   ]
  },
  {
   "cell_type": "markdown",
   "id": "144fbafa",
   "metadata": {},
   "source": [
    "## Taste of SQL\n",
    "\n",
    "Structured Query Language, or \"sequel,\" is a high-level data transformation language supported by relational databases and other data systems like Spark. It is **declarative** rather than imperative, meaning:\n",
    "\n",
    "- Describes what rather than how\n",
    "- It's query-centric rather than code-centric\n",
    "\n",
    "SQL's core functionality is restricted compared to Python. Nevertheless, it is still quite powerful, as we'll see in this class.\n",
    "\n",
    "This class uses a flavor of SQL called PostgreSQL, a free, open-source **database management system (DBMS)** that is SQL-compliant.\n"
   ]
  },
  {
   "cell_type": "markdown",
   "id": "88740545",
   "metadata": {},
   "source": [
    "## The Relational Data Model\n",
    "\n",
    "A **relation** is a collection of tuples, each with a predefined collection of **attributes**. Each attribute has a type, called a domain, which must be atomic (e.g., string or integer). The order of the tuples in a relation does not matter, since the relation is a set.\n",
    "\n",
    "The **schema** of a relation is a list of attribute names and their domains (the data types associated with each attribute). For example, in the IMDb dataset, the schema for the title relation is:\n"
   ]
  },
  {
   "cell_type": "markdown",
   "id": "3946530d",
   "metadata": {},
   "source": [
    "```sql\n",
    "Title (titleId String, ordering Integer, title String, \n",
    "        region String, language String...)\n",
    "        "
   ]
  },
  {
   "cell_type": "markdown",
   "id": "1a5f2624",
   "metadata": {},
   "source": [
    "We can also think of a relation as a table of data. Organizations typically have many relations.\n",
    "\n",
    "An **instance** is a specific instantiation of the relation—a relation with \"values filled in.\"\n"
   ]
  },
  {
   "cell_type": "markdown",
   "id": "3ecd6034",
   "metadata": {},
   "source": [
    "## SFW Queries\n",
    "\n",
    "Below is the `SELECT FROM WHERE (SFW)` query, the most standard SQL query to extract records from a relation:\n"
   ]
  },
  {
   "cell_type": "markdown",
   "id": "04b23ff6",
   "metadata": {},
   "source": [
    "```sql\n",
    "SELECT attributes\n",
    "FROM tables\n",
    "WHERE condition about tuples in tables;\n"
   ]
  },
  {
   "cell_type": "markdown",
   "id": "012333b4",
   "metadata": {},
   "source": [
    "Note that the SQL query is not read literally from top to bottom, but instead is evaluated:\n",
    "1. **FROM** clause: lists the table\n",
    "2. **WHERE** clause: filters for the matching tuples\n",
    "3. **SELECT** clause: filters for the specified attributes.\n"
   ]
  },
  {
   "cell_type": "markdown",
   "id": "5d45ef08",
   "metadata": {},
   "source": [
    "A shortcut to selecting all the attributes in a relation is to issue `SELECT *`. For example, to select all tuples and all attributes from the Title table, we can run the following query:\n"
   ]
  },
  {
   "cell_type": "markdown",
   "id": "4f27033d",
   "metadata": {},
   "source": [
    "```sql\n",
    "SELECT *\n",
    "FROM Title;\n"
   ]
  },
  {
   "cell_type": "markdown",
   "id": "b0f59942",
   "metadata": {},
   "source": [
    "By convention, SQL keywords are in all caps, e.g., `SELECT *`, while attributes are in lowercase. End queries with a semicolon.\n",
    "\n",
    "### Casting\n",
    "Casting converts one type to another for calculation. For example, to cast a string to an integer:\n"
   ]
  },
  {
   "cell_type": "markdown",
   "id": "dd61c4a9",
   "metadata": {},
   "source": [
    "```sql\n",
    "CAST(premiered AS INTEGER)\n"
   ]
  },
  {
   "cell_type": "markdown",
   "id": "b960a54c",
   "metadata": {},
   "source": [
    "## Handling NULLs\n",
    "\n",
    "Tuples can have NULL values for attributes, which we need to take note of when performing queries. Generally, NULLs do not satisfy conditions—for example, if a tuple value is NULL, `born < 2023` and `born >= 2023` will both evaluate to `FALSE`. This leads to some unintuitive behavior, for example:\n"
   ]
  },
  {
   "cell_type": "markdown",
   "id": "69ccb6dc",
   "metadata": {},
   "source": [
    "```sql\n",
    "SELECT born FROM people WHERE born < 2023 OR born >= 2023;\n"
   ]
  },
  {
   "cell_type": "markdown",
   "id": "a9b04d50",
   "metadata": {},
   "source": [
    "The above query will return all tuples that don't have a NULL `born` value, not all the tuples in the relation! If we want all the tuples, we need to explicitly test for NULL:\n"
   ]
  },
  {
   "cell_type": "markdown",
   "id": "db828af4",
   "metadata": {},
   "source": [
    "```sql\n",
    "SELECT born FROM people WHERE born < 2023 OR born IS NULL;\n"
   ]
  },
  {
   "cell_type": "markdown",
   "id": "b720eeb4",
   "metadata": {},
   "source": [
    "For aggregations, NULL values are not involved. For example, the average of a column will be the average of all the non-null values in that column. However, if all the values in the column are NULL, the aggregation will also return NULL.\n",
    "\n",
    "We will cover more SQL syntax in the following lectures.\n"
   ]
  },
  {
   "cell_type": "code",
   "execution_count": null,
   "id": "c178e0eb",
   "metadata": {},
   "outputs": [],
   "source": []
  }
 ],
 "metadata": {
  "kernelspec": {
   "display_name": "Python 3 (ipykernel)",
   "language": "python",
   "name": "python3"
  },
  "language_info": {
   "codemirror_mode": {
    "name": "ipython",
    "version": 3
   },
   "file_extension": ".py",
   "mimetype": "text/x-python",
   "name": "python",
   "nbconvert_exporter": "python",
   "pygments_lexer": "ipython3",
   "version": "3.11.9"
  }
 },
 "nbformat": 4,
 "nbformat_minor": 5
}